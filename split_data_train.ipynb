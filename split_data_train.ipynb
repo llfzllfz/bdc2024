{
 "cells": [
  {
   "cell_type": "code",
   "execution_count": 46,
   "metadata": {},
   "outputs": [],
   "source": [
    "import torch\n",
    "import numpy as np\n",
    "import pandas as pd\n",
    "import os"
   ]
  },
  {
   "cell_type": "code",
   "execution_count": 47,
   "metadata": {},
   "outputs": [],
   "source": [
    "global_data = np.load('global/global_data.npy').astype(np.float32)"
   ]
  },
  {
   "cell_type": "code",
   "execution_count": 48,
   "metadata": {},
   "outputs": [],
   "source": [
    "wind = np.load('global/wind.npy').astype(np.float32)\n",
    "temp = np.load('global/temp.npy').astype(np.float32)"
   ]
  },
  {
   "cell_type": "code",
   "execution_count": 49,
   "metadata": {},
   "outputs": [],
   "source": [
    "train_ratio = 0.9"
   ]
  },
  {
   "cell_type": "code",
   "execution_count": 50,
   "metadata": {},
   "outputs": [],
   "source": [
    "def split_data(data):\n",
    "    return data[: int(data.shape[0] * train_ratio)], data[int(data.shape[0] * train_ratio) : ]"
   ]
  },
  {
   "cell_type": "code",
   "execution_count": 51,
   "metadata": {},
   "outputs": [],
   "source": [
    "train_global_data, test_global_data = split_data(global_data)\n",
    "train_wind, test_wind = split_data(wind)\n",
    "train_temp, test_temp = split_data(temp)"
   ]
  },
  {
   "cell_type": "code",
   "execution_count": null,
   "metadata": {},
   "outputs": [],
   "source": []
  },
  {
   "cell_type": "code",
   "execution_count": 52,
   "metadata": {},
   "outputs": [],
   "source": [
    "seq_len = 168\n",
    "pred_len = 24"
   ]
  },
  {
   "cell_type": "code",
   "execution_count": 53,
   "metadata": {},
   "outputs": [],
   "source": [
    "wind_data = []\n",
    "wind_label = []\n",
    "for idx in range(seq_len, test_wind.shape[0] - pred_len, 3):\n",
    "    wind_data.append(test_wind[idx - seq_len : idx, :, :])\n",
    "    wind_label.append(test_wind[idx : idx + pred_len, :, :])"
   ]
  },
  {
   "cell_type": "code",
   "execution_count": 54,
   "metadata": {},
   "outputs": [],
   "source": [
    "temp_data = []\n",
    "temp_label = []\n",
    "for idx in range(seq_len, test_temp.shape[0] - pred_len, 3):\n",
    "    temp_data.append(test_temp[idx - seq_len : idx, :, :])\n",
    "    temp_label.append(test_temp[idx : idx + pred_len, :, :])"
   ]
  },
  {
   "cell_type": "code",
   "execution_count": 55,
   "metadata": {},
   "outputs": [],
   "source": [
    "global_test_data = []\n",
    "for idx in range(seq_len // 3, test_global_data.shape[0] - pred_len // 3):\n",
    "    global_test_data.append(test_global_data[idx - seq_len // 3 : idx, :, :])"
   ]
  },
  {
   "cell_type": "code",
   "execution_count": null,
   "metadata": {},
   "outputs": [],
   "source": []
  },
  {
   "cell_type": "code",
   "execution_count": 56,
   "metadata": {},
   "outputs": [],
   "source": [
    "np.save('train/global_data.npy', train_global_data.astype(np.float32))\n",
    "np.save('train/wind.npy', train_wind.astype(np.float32))\n",
    "np.save('train/temp.npy', train_temp.astype(np.float32))"
   ]
  },
  {
   "cell_type": "code",
   "execution_count": null,
   "metadata": {},
   "outputs": [],
   "source": [
    "np.save('cenn/cenn_data.npy', np.array(global_test_data).astype(np.float32))\n",
    "np.save('cenn/temp_lookback.npy', np.array(temp_data).astype(np.float32))\n",
    "np.save('cenn/wind_lookback.npy', np.array(wind_data).astype(np.float32))"
   ]
  },
  {
   "cell_type": "code",
   "execution_count": null,
   "metadata": {},
   "outputs": [],
   "source": [
    "np.save('cenn/temp_lookback_label.npy', np.array(temp_label).astype(np.float32))\n",
    "np.save('cenn/wind_lookback_label.npy', np.array(wind_label).astype(np.float32))"
   ]
  },
  {
   "cell_type": "code",
   "execution_count": 57,
   "metadata": {},
   "outputs": [],
   "source": [
    "np.save('train_tiny/global_data.npy', train_global_data[:333, :, :, :].astype(np.float32))\n",
    "np.save('train_tiny/wind.npy', train_wind[:999, :, :].astype(np.float32))\n",
    "np.save('train_tiny/temp.npy', train_temp[:999, :, :].astype(np.float32))"
   ]
  },
  {
   "cell_type": "code",
   "execution_count": 59,
   "metadata": {},
   "outputs": [],
   "source": [
    "np.save('cenn_tiny/cenn_data.npy', np.array(global_test_data[:33]).astype(np.float32))\n",
    "np.save('cenn_tiny/temp_lookback.npy', np.array(temp_data[:99]).astype(np.float32))\n",
    "np.save('cenn_tiny/wind_lookback.npy', np.array(wind_data[:99]).astype(np.float32))"
   ]
  },
  {
   "cell_type": "code",
   "execution_count": 60,
   "metadata": {},
   "outputs": [],
   "source": [
    "np.save('cenn_tiny/temp_lookback_label.npy', np.array(temp_label[:99]).astype(np.float32))\n",
    "np.save('cenn_tiny/wind_lookback_label.npy', np.array(wind_label[:99]).astype(np.float32))"
   ]
  },
  {
   "cell_type": "code",
   "execution_count": null,
   "metadata": {},
   "outputs": [],
   "source": []
  }
 ],
 "metadata": {
  "kernelspec": {
   "display_name": "DNAV",
   "language": "python",
   "name": "python3"
  },
  "language_info": {
   "codemirror_mode": {
    "name": "ipython",
    "version": 3
   },
   "file_extension": ".py",
   "mimetype": "text/x-python",
   "name": "python",
   "nbconvert_exporter": "python",
   "pygments_lexer": "ipython3",
   "version": "3.9.18"
  }
 },
 "nbformat": 4,
 "nbformat_minor": 2
}
